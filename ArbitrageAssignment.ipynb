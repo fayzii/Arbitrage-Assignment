{
 "cells": [
  {
   "cell_type": "code",
   "execution_count": 63,
   "metadata": {},
   "outputs": [
    {
     "name": "stdout",
     "output_type": "stream",
     "text": [
      "0    BitFinex\n",
      "1      Cex.io\n",
      "2        Exmo\n",
      "3      Kraken\n",
      "4    Livecoin\n",
      "5       wexnz\n",
      "Name: market, dtype: object\n"
     ]
    }
   ],
   "source": [
    "import numpy as np\n",
    "import pandas as pd\n",
    "import matplotlib.pyplot as plt\n",
    "import requests as req\n",
    "\n",
    "url='https://api.cryptonator.com/api/full/btc-eur'\n",
    "data =req.get(url).json()['ticker']['markets']\n",
    "dataframe =pd.DataFrame(data)\n",
    "print(dataframe['market'])"
   ]
  },
  {
   "cell_type": "code",
   "execution_count": 62,
   "metadata": {},
   "outputs": [
    {
     "name": "stdout",
     "output_type": "stream",
     "text": [
      "[5436.      5434.      5694.      5432.5     5928.64    5628.09693]\n",
      "['BitFinex' 'Cex.io' 'Exmo' 'Kraken' 'Livecoin' 'wexnz']\n",
      "[2402.15134319   56.57336846  323.08530353 7597.87671787   11.27235172\n",
      "  254.46737   ]\n"
     ]
    }
   ],
   "source": [
    "Price= np.array(dataframe['price'].values , dtype='float64')\n",
    "Market= np.array(dataframe['market'].values)\n",
    "Volume= np.array(dataframe['volume'].values , dtype='float64')\n",
    "print(Price)\n",
    "print(Market)\n",
    "print(Volume)"
   ]
  },
  {
   "cell_type": "code",
   "execution_count": 64,
   "metadata": {},
   "outputs": [
    {
     "name": "stdout",
     "output_type": "stream",
     "text": [
      "5928.64\n"
     ]
    }
   ],
   "source": [
    "maxPrice= np.max(Price)\n",
    "print(maxPrice)"
   ]
  },
  {
   "cell_type": "code",
   "execution_count": 65,
   "metadata": {},
   "outputs": [
    {
     "name": "stdout",
     "output_type": "stream",
     "text": [
      "5432.5\n"
     ]
    }
   ],
   "source": [
    "minPrice=np.min(Price)\n",
    "print(minPrice)"
   ]
  },
  {
   "cell_type": "code",
   "execution_count": 66,
   "metadata": {},
   "outputs": [
    {
     "name": "stdout",
     "output_type": "stream",
     "text": [
      "Lowest price of bitcoin in Kraken is at 5432.5\n",
      "Max price of bitcoin in Livecoin is at 5928.64\n"
     ]
    }
   ],
   "source": [
    "print('Lowest price of bitcoin in '+Market[np.argmin(Price)]+ ' is at '+str(Price.min()))\n",
    "print('Max price of bitcoin in '+Market[np.argmax(Price)]+ ' is at '+str(Price.max()))"
   ]
  },
  {
   "cell_type": "code",
   "execution_count": 30,
   "metadata": {},
   "outputs": [
    {
     "name": "stdout",
     "output_type": "stream",
     "text": [
      "Difference = 705.0\n"
     ]
    }
   ],
   "source": [
    "print('Difference = '+str(Price.ptp()))"
   ]
  },
  {
   "cell_type": "code",
   "execution_count": 71,
   "metadata": {
    "scrolled": true
   },
   "outputs": [
    {
     "data": {
      "image/png": "[encoded data removed]",
      "text/plain": [
       "<matplotlib.figure.Figure at 0x21afbdd0a20>"
      ]
     },
     "metadata": {},
     "output_type": "display_data"
    }
   ],
   "source": [
    "plt.scatter(Price,Volume,marker='x')\n",
    "for mkt,pr,vol in zip(Market,Price,Volume):\n",
    "    plt.annotate(mkt,xy=(pr,vol),xytext=(5,-5),textcoords='offset points',fontsize=8)\n",
    "plt.show()"
   ]
  },
  {
   "cell_type": "code",
   "execution_count": null,
   "metadata": {},
   "outputs": [],
   "source": []
  }
 ],
 "metadata": {
  "kernelspec": {
   "display_name": "Python 3",
   "language": "python",
   "name": "python3"
  },
  "language_info": {
   "codemirror_mode": {
    "name": "ipython",
    "version": 3
   },
   "file_extension": ".py",
   "mimetype": "text/x-python",
   "name": "python",
   "nbconvert_exporter": "python",
   "pygments_lexer": "ipython3",
   "version": "3.6.4"
  }
 },
 "nbformat": 4,
 "nbformat_minor": 2
}
